{
  "cells": [
    {
      "cell_type": "markdown",
      "metadata": {
        "id": "niLzXcqZIWiT"
      },
      "source": [
        "# CASE STUDY 1: SOLVING REAL WORLD PROBLEMS USING COMPUTATIONAL THINKING\n",
        "\n"
      ]
    },
    {
      "cell_type": "markdown",
      "source": [
        "REAL WORLD PROBLEM:\n",
        "\n",
        "***budget management in a household***\n",
        "\n",
        "the monthly income on certain households is enough for the needs like rent, groceries, electricity and water bills, etc. but sometimes there are miscellaneous bills to pay for like specific wants, debts, emergency bills, maintenance, travel costs, etc.\n",
        "\n",
        "____________________\n",
        "\n",
        "CPE22S3-CPE311\n",
        "\n",
        "TEAM 3\n",
        "\n",
        "Belocora, John Rome\n",
        "\n",
        "Calamba, Liam Francis\n",
        "\n",
        "Montojo, Lance"
      ],
      "metadata": {
        "id": "iGuYNjLpZlsk"
      }
    },
    {
      "cell_type": "markdown",
      "metadata": {
        "id": "A5wZp80fEU1t"
      },
      "source": [
        "# KNAPSACK GRIDDY (SOURCE/INITIAL/TESTING/INSTANCES)"
      ]
    },
    {
      "cell_type": "code",
      "execution_count": 17,
      "metadata": {
        "colab": {
          "base_uri": "https://localhost:8080/",
          "height": 0
        },
        "id": "CNR8zN_s1t6N",
        "outputId": "12673c25-b676-480c-c1e7-1343ceefb407"
      },
      "outputs": [
        {
          "output_type": "stream",
          "name": "stdout",
          "text": [
            "by value to allocate up to 27000 PhP\n",
            "Total value of expenses taken = 26016.0\n",
            " RENT: <8790, 1>\n",
            " GROCERIES: <5670, 2>\n",
            " NEW TIRES: <5000, 5>\n",
            " ELECTRICITY: <3456, 3>\n",
            " BROKEN DISWHWASHER: <2400, 7>\n",
            " BROKEN DOOR: <700, 6>\n",
            "\n",
            "by priority to allocate up to 27000 PhP\n",
            "Total value of expenses taken = 25961.0\n",
            " RENT: <8790, 1>\n",
            " GROCERIES: <5670, 2>\n",
            " WATER BILL: <2345, 3>\n",
            " ELECTRICITY: <3456, 3>\n",
            " NEW TIRES: <5000, 5>\n",
            " BROKEN DOOR: <700, 6>\n",
            "\n",
            "You should probably pay these first based on your salary \n",
            "which is: 27000 PhP (montly)\n",
            "Total value of expenses taken = 25961.0\n",
            " RENT: <8790, 1>\n",
            " GROCERIES: <5670, 2>\n",
            " ELECTRICITY: <3456, 3>\n",
            " NEW TIRES: <5000, 5>\n",
            " WATER BILL: <2345, 3>\n",
            " BROKEN DOOR: <700, 6>\n"
          ]
        }
      ],
      "source": [
        "#testing area source code\n",
        "#instances ↓↓↓\n",
        "class Expense:\n",
        "    def __init__(self, exp, value, priority):\n",
        "        self.exp = exp\n",
        "        self.value = value\n",
        "        self.priority = priority\n",
        "    def get_value(self):\n",
        "        return self.value\n",
        "    def get_priority(self):\n",
        "        return self.priority\n",
        "    def get_payfirst(self):\n",
        "        return self.get_value() / self.get_priority()\n",
        "    def __str__(self):\n",
        "        return f\"{self.exp}: <{self.value}, {self.priority}>\"\n",
        "\n",
        "def expense_list(exps, values, priority):\n",
        "    menu = [Expense(exp, value, priority) for exp, value, priority in zip(exps, values, priority)]\n",
        "    return menu\n",
        "def greedy(items, max_value, key_function):\n",
        "    items_copy = sorted(items, key=key_function, reverse=True)\n",
        "    result = []\n",
        "    total_value, total_cost = 0.0, 0.0\n",
        "    for item in items_copy:\n",
        "        if total_value + item.get_value() <= max_value:\n",
        "            result.append(item)\n",
        "            total_value += item.get_value()\n",
        "            total_cost += item.get_priority()\n",
        "    return result, total_value\n",
        "def test_greedy(items, constraint, key_function):\n",
        "    taken, val = greedy(items, constraint, key_function)\n",
        "    print(f\"Total value of expenses taken = {val}\")\n",
        "    for item in taken:\n",
        "        print(f\" {item}\")\n",
        "def test_greedys(Expenses, max_value):\n",
        "    print(f\"by value to allocate up to {max_value} PhP\")\n",
        "    test_greedy(Expenses, max_value, Expense.get_value)\n",
        "    print(f\"\\nby priority to allocate up to {max_value} PhP\")\n",
        "    test_greedy(Expenses, max_value, lambda x: 1 / x.get_priority())\n",
        "    print(f\"\\nYou should probably pay these first based on your salary \\nwhich is: {max_value} PhP (montly)\")\n",
        "    test_greedy(Expenses, max_value, Expense.get_payfirst)\n",
        "\n",
        "exps = [\"RENT\", \"WATER BILL\", \"ELECTRICITY\", \"GROCERIES\", \"NEW TIRES\", \"BROKEN DOOR\", \"LEAK IN THE PIPES\", \"BROKEN DISWHWASHER\"]\n",
        "values = [8790, 2345, 3456, 5670, 5000, 700, 2300, 2400]\n",
        "priority = [1, 3, 3, 2, 5, 6, 6, 7]\n",
        "Expenses = expense_list(exps, values, priority)\n",
        "test_greedys(Expenses, 27000)"
      ]
    },
    {
      "cell_type": "code",
      "source": [
        "test_greedys(Expenses, 15000) #income is 15k"
      ],
      "metadata": {
        "colab": {
          "base_uri": "https://localhost:8080/",
          "height": 0
        },
        "id": "EsZdBiYUZEpX",
        "outputId": "07babb2f-9b4d-4a5a-8135-aeadc335f1bd"
      },
      "execution_count": 18,
      "outputs": [
        {
          "output_type": "stream",
          "name": "stdout",
          "text": [
            "by value to allocate up to 15000 PhP\n",
            "Total value of expenses taken = 14460.0\n",
            " RENT: <8790, 1>\n",
            " GROCERIES: <5670, 2>\n",
            "\n",
            "by priority to allocate up to 15000 PhP\n",
            "Total value of expenses taken = 14460.0\n",
            " RENT: <8790, 1>\n",
            " GROCERIES: <5670, 2>\n",
            "\n",
            "You should probably pay these first based on your salary \n",
            "which is: 15000 PhP (montly)\n",
            "Total value of expenses taken = 14460.0\n",
            " RENT: <8790, 1>\n",
            " GROCERIES: <5670, 2>\n"
          ]
        }
      ]
    },
    {
      "cell_type": "code",
      "source": [
        "test_greedys(Expenses, 25000) #income is 25k"
      ],
      "metadata": {
        "colab": {
          "base_uri": "https://localhost:8080/",
          "height": 0
        },
        "id": "57JSH89uZQGR",
        "outputId": "d4ce899a-1677-4104-b63e-fb5779b0e3db"
      },
      "execution_count": 19,
      "outputs": [
        {
          "output_type": "stream",
          "name": "stdout",
          "text": [
            "by value to allocate up to 25000 PhP\n",
            "Total value of expenses taken = 23616.0\n",
            " RENT: <8790, 1>\n",
            " GROCERIES: <5670, 2>\n",
            " NEW TIRES: <5000, 5>\n",
            " ELECTRICITY: <3456, 3>\n",
            " BROKEN DOOR: <700, 6>\n",
            "\n",
            "by priority to allocate up to 25000 PhP\n",
            "Total value of expenses taken = 23261.0\n",
            " RENT: <8790, 1>\n",
            " GROCERIES: <5670, 2>\n",
            " WATER BILL: <2345, 3>\n",
            " ELECTRICITY: <3456, 3>\n",
            " BROKEN DOOR: <700, 6>\n",
            " LEAK IN THE PIPES: <2300, 6>\n",
            "\n",
            "You should probably pay these first based on your salary \n",
            "which is: 25000 PhP (montly)\n",
            "Total value of expenses taken = 23616.0\n",
            " RENT: <8790, 1>\n",
            " GROCERIES: <5670, 2>\n",
            " ELECTRICITY: <3456, 3>\n",
            " NEW TIRES: <5000, 5>\n",
            " BROKEN DOOR: <700, 6>\n"
          ]
        }
      ]
    },
    {
      "cell_type": "markdown",
      "metadata": {
        "id": "UD4YUfPrAUxx"
      },
      "source": [
        "# USING GREEDY ALGO USING DYNAMIC PROGRAMMING (BOTTOM UP, ITERATIVE)"
      ]
    },
    {
      "cell_type": "code",
      "execution_count": 16,
      "metadata": {
        "colab": {
          "base_uri": "https://localhost:8080/",
          "height": 0
        },
        "id": "tODfYFGO2OwE",
        "outputId": "5b0a4250-b4f3-4b01-dae7-60279ad77ebf"
      },
      "outputs": [
        {
          "output_type": "stream",
          "name": "stdout",
          "text": [
            "How much is your monthly budget: 30000\n",
            "\n",
            "Enter an expense (or 'q' to quit): BROKEN DISHWASHER\n",
            "Enter expense value: 2400\n",
            "Enter expense priority (1 as top priority 10 as least priority ): 7\n",
            "Enter an expense (or 'q' to quit): BROKEN DOOR\n",
            "Enter expense value: 700\n",
            "Enter expense priority (1 as top priority 10 as least priority ): 6\n",
            "Enter an expense (or 'q' to quit): LEAK IN THE ROOF\n",
            "Enter expense value: 2300\n",
            "Enter expense priority (1 as top priority 10 as least priority ): 5\n",
            "Enter an expense (or 'q' to quit): GROCERIES\n",
            "Enter expense value: 5746\n",
            "Enter expense priority (1 as top priority 10 as least priority ): 2\n",
            "Enter an expense (or 'q' to quit): NEW TIRES\n",
            "Enter expense value: 5000\n",
            "Enter expense priority (1 as top priority 10 as least priority ): 6\n",
            "Enter an expense (or 'q' to quit): NEW DESK\n",
            "Enter expense value: 1500\n",
            "Enter expense priority (1 as top priority 10 as least priority ): 4\n",
            "Enter an expense (or 'q' to quit): SOLDERING TOOLS\n",
            "Enter expense value: 700\n",
            "Enter expense priority (1 as top priority 10 as least priority ): 7\n",
            "Enter an expense (or 'q' to quit): WATER BILL\n",
            "Enter expense value: 2437\n",
            "Enter expense priority (1 as top priority 10 as least priority ): 3\n",
            "Enter an expense (or 'q' to quit): ELECTRICITY BILL\n",
            "Enter expense value: 2778\n",
            "Enter expense priority (1 as top priority 10 as least priority ): 3\n",
            "Enter an expense (or 'q' to quit): RENT\n",
            "Enter expense value: 8777\n",
            "Enter expense priority (1 as top priority 10 as least priority ): 1\n",
            "Enter an expense (or 'q' to quit): Q\n",
            "\n",
            "by value to allocate up to 30000.0 PhP\n",
            "Total value of expenses taken = 29438.0\n",
            " RENT: <8777.0, 1>\n",
            " GROCERIES: <5746.0, 2>\n",
            " NEW TIRES: <5000.0, 6>\n",
            " ELECTRICITY BILL: <2778.0, 3>\n",
            " WATER BILL: <2437.0, 3>\n",
            " BROKEN DISHWASHER: <2400.0, 7>\n",
            " LEAK IN THE ROOF: <2300.0, 5>\n",
            "\n",
            "by priority to allocate up to 30000.0 PhP\n",
            "Total value of expenses taken = 29938.0\n",
            " RENT: <8777.0, 1>\n",
            " GROCERIES: <5746.0, 2>\n",
            " WATER BILL: <2437.0, 3>\n",
            " ELECTRICITY BILL: <2778.0, 3>\n",
            " NEW DESK: <1500.0, 4>\n",
            " LEAK IN THE ROOF: <2300.0, 5>\n",
            " BROKEN DOOR: <700.0, 6>\n",
            " NEW TIRES: <5000.0, 6>\n",
            " SOLDERING TOOLS: <700.0, 7>\n",
            "\n",
            " You should probably pay these first based on your salary \n",
            " which is: 30000.0 PhP (montly)\n",
            "Total value of expenses taken = 29938.0\n",
            " RENT: <8777.0, 1>\n",
            " GROCERIES: <5746.0, 2>\n",
            " ELECTRICITY BILL: <2778.0, 3>\n",
            " NEW TIRES: <5000.0, 6>\n",
            " WATER BILL: <2437.0, 3>\n",
            " LEAK IN THE ROOF: <2300.0, 5>\n",
            " NEW DESK: <1500.0, 4>\n",
            " BROKEN DOOR: <700.0, 6>\n",
            " SOLDERING TOOLS: <700.0, 7>\n"
          ]
        }
      ],
      "source": [
        "#final code/ MAIN CODE\n",
        "\"\"\"\n",
        "ZPHRWWA\n",
        "Jumpyyy\n",
        "GRed\n",
        "\"\"\"\n",
        "class Expense:\n",
        "    def __init__(self, exp, value, priority):\n",
        "        self.exp = exp\n",
        "        self.value = value\n",
        "        self.priority = priority\n",
        "\n",
        "    def get_value(self):\n",
        "        return self.value\n",
        "    def get_priority(self):\n",
        "        return self.priority\n",
        "    def get_payfirst(self):\n",
        "\n",
        "        return self.get_value() / self.get_priority()\n",
        "    def __str__(self):\n",
        "        return f\"{self.exp}: <{self.value}, {self.priority}>\"\n",
        "\n",
        "def expense_list(exps, values, priority):\n",
        "    menu = [Expense(exp, value, priority) for exp, value, priority in zip(exps, values, priority)]\n",
        "    return menu\n",
        "\n",
        "def greedy(items, max_value, key_function):\n",
        "    items_copy = sorted(items, key=key_function, reverse=True)\n",
        "    result = []\n",
        "    total_value, total_cost = 0.0, 0.0\n",
        "    for item in items_copy:\n",
        "        if total_value + item.get_value() <= max_value:\n",
        "            result.append(item)\n",
        "            total_value += item.get_value()\n",
        "            total_cost += item.get_priority()\n",
        "    return result, total_value\n",
        "\n",
        "def test_greedy(items, constraint, key_function):\n",
        "    taken, val = greedy(items, constraint, key_function)\n",
        "    print(f\"Total value of expenses taken = {val}\")\n",
        "    for item in taken:\n",
        "        print(f\" {item}\")\n",
        "\n",
        "def test_greedys(Expenses, max_value):\n",
        "    print(f\"\\nby value to allocate up to {max_value} PhP\")\n",
        "    test_greedy(Expenses, max_value, Expense.get_value)\n",
        "    print(f\"\\nby priority to allocate up to {max_value} PhP\")\n",
        "    test_greedy(Expenses, max_value, lambda x: 1 / x.get_priority())\n",
        "    print(f\"\\n You should probably pay these first based on your salary \\n which is: {max_value} PhP (montly)\")\n",
        "    test_greedy(Expenses, max_value, Expense.get_payfirst)\n",
        "\n",
        "def get_user_input(message):\n",
        "    \"\"\"Gets user input and returns it as a string\"\"\"\n",
        "    while True:\n",
        "        try:\n",
        "            return input(message)\n",
        "        except ValueError:\n",
        "            print(\"Invalid input. Please enter a string.\")\n",
        "\n",
        "def create_expense(exp, value, priority):\n",
        "    \"\"\"Creates an Expense object with the given attributes\"\"\"\n",
        "    return Expense(exp, value, priority)\n",
        "\n",
        "def build_expense_list():\n",
        "    \"\"\"Prompts user for expense details and creates a list of Expense objects\"\"\"\n",
        "    expenses = []\n",
        "    while True:\n",
        "        exp = get_user_input(\"Enter an expense (or 'q' to quit): \")\n",
        "        if exp.lower() == 'q':\n",
        "            break\n",
        "        value = float(get_user_input(\"Enter expense value: \"))\n",
        "        priority = int(get_user_input(\"Enter expense priority (1 as top priority 10 as least priority ): \"))\n",
        "        expenses.append(create_expense(exp, value, priority))\n",
        "    return expenses\n",
        "\n",
        "def get_value_limit():\n",
        "    \"\"\"Gets user input for the value limit and validates it\"\"\"\n",
        "    while True:\n",
        "        try:\n",
        "            limit = float(get_user_input(\"How much is your monthly budget: \"))\n",
        "            print()\n",
        "            if limit > 0:\n",
        "                return limit\n",
        "            else:\n",
        "                print(\"Invalid input. Budget must be positive.\")\n",
        "        except ValueError:\n",
        "            print(\"Invalid input. Please enter a number.\")\n",
        "\n",
        "exps = []  # Empty list to store expense exps\n",
        "values = []  # Empty list to store expense values\n",
        "priority = []  # Empty list to store expense priorities\n",
        "\n",
        "# Get user input for the priority limit\n",
        "priority_limit = get_value_limit()\n",
        "\n",
        "# Call the user input function to build the expense list\n",
        "expenses = build_expense_list()\n",
        "\n",
        "# Convert expense list to exps, values, and priority lists\n",
        "for expense in expenses:\n",
        "  exps.append(expense.exp)\n",
        "  values.append(expense.value)\n",
        "  priority.append(expense.priority)\n",
        "\n",
        "test_greedys(expenses, priority_limit)"
      ]
    }
  ],
  "metadata": {
    "colab": {
      "provenance": []
    },
    "kernelspec": {
      "display_name": "Python 3",
      "name": "python3"
    },
    "language_info": {
      "name": "python"
    }
  },
  "nbformat": 4,
  "nbformat_minor": 0
}